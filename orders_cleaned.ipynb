{
 "cells": [
  {
   "cell_type": "code",
   "execution_count": 3,
   "metadata": {},
   "outputs": [],
   "source": [
    "from pyspark.sql import (\n",
    "     SparkSession,\n",
    "     functions as F,\n",
    "     types)\n",
    "spark=SparkSession.builder.appName(\"spark\").getOrCreate()"
   ]
  },
  {
   "cell_type": "code",
   "execution_count": 29,
   "metadata": {},
   "outputs": [
    {
     "name": "stdout",
     "output_type": "stream",
     "text": [
      "+-------------------+--------+--------------------+-----------------+------------+--------------------+----------------+----------+----------+--------+-------+\n",
      "|         order_date|order_id|             product|       product_id|    category|    purchase_address|quantity_ordered|price_each|cost_price|turnover| margin|\n",
      "+-------------------+--------+--------------------+-----------------+------------+--------------------+----------------+----------+----------+--------+-------+\n",
      "|2023-01-22 21:25:00|  141234|              iPhone|5.638008983335E12|   Vêtements|944 Walnut St, Bo...|               1|     700.0|     231.0|   700.0|  469.0|\n",
      "|2023-01-28 14:15:00|  141235|Lightning Chargin...|5.563319511488E12|Alimentation|185 Maple St, Por...|               1|     14.95|     7.475|   14.95|  7.475|\n",
      "|2023-01-17 13:33:00|  141236|    Wired Headphones| 2.11397339522E12|   Vêtements|538 Adams St, San...|               2|     11.99|     5.995|   23.98|  11.99|\n",
      "|2023-01-05 20:33:00|  141237|    27in FHD Monitor|3.069156759167E12|      Sports|738 10th St, Los ...|               1|    149.99|   97.4935|  149.99|52.4965|\n",
      "|2023-01-25 11:59:00|  141238|    Wired Headphones|9.692680938163E12|Électronique|387 10th St, Aust...|               1|     11.99|     5.995|   11.99|  5.995|\n",
      "+-------------------+--------+--------------------+-----------------+------------+--------------------+----------------+----------+----------+--------+-------+\n",
      "only showing top 5 rows\n",
      "\n"
     ]
    }
   ],
   "source": [
    "df_pyspark=spark.read.parquet('orders_data.parquet')\n",
    "df_pyspark.show(5)"
   ]
  },
  {
   "cell_type": "code",
   "execution_count": 5,
   "metadata": {},
   "outputs": [
    {
     "name": "stdout",
     "output_type": "stream",
     "text": [
      "root\n",
      " |-- order_date: timestamp_ntz (nullable = true)\n",
      " |-- order_id: long (nullable = true)\n",
      " |-- product: string (nullable = true)\n",
      " |-- product_id: double (nullable = true)\n",
      " |-- category: string (nullable = true)\n",
      " |-- purchase_address: string (nullable = true)\n",
      " |-- quantity_ordered: long (nullable = true)\n",
      " |-- price_each: double (nullable = true)\n",
      " |-- cost_price: double (nullable = true)\n",
      " |-- turnover: double (nullable = true)\n",
      " |-- margin: double (nullable = true)\n",
      "\n"
     ]
    }
   ],
   "source": [
    "df_pyspark.printSchema()"
   ]
  },
  {
   "cell_type": "code",
   "execution_count": 9,
   "metadata": {},
   "outputs": [],
   "source": [
    "df_pyspark=(\n",
    "    df_pyspark.withColumn('time_of_day',\n",
    "                          F.when((F.hour('order_date')>=0) & (F.hour('order_date')<=5),'night')\n",
    "                          .when((F.hour('order_date')>=6) & (F.hour('order_date')<=13),'morning')\n",
    "                          .when((F.hour('order_date')>=14) & (F.hour('order_date')<=19),'afternoon')\n",
    "                          .when((F.hour('order_date')>=20) & (F.hour('order_date')<=23),'evening')\n",
    "                          .otherwise(None)\n",
    ")\n",
    ".filter(F.col('time_of_day') !='night')\n",
    ".withColumn('order_date',F.col('order_date').cast(types.DateType()))\n",
    ")"
   ]
  },
  {
   "cell_type": "code",
   "execution_count": 10,
   "metadata": {},
   "outputs": [
    {
     "name": "stdout",
     "output_type": "stream",
     "text": [
      "+----------+--------+--------------------+-----------------+------------+--------------------+----------------+----------+----------+--------+-------+-----------+\n",
      "|order_date|order_id|             product|       product_id|    category|    purchase_address|quantity_ordered|price_each|cost_price|turnover| margin|time_of_day|\n",
      "+----------+--------+--------------------+-----------------+------------+--------------------+----------------+----------+----------+--------+-------+-----------+\n",
      "|2023-01-22|  141234|              iPhone|5.638008983335E12|   Vêtements|944 Walnut St, Bo...|               1|     700.0|     231.0|   700.0|  469.0|    evening|\n",
      "|2023-01-28|  141235|Lightning Chargin...|5.563319511488E12|Alimentation|185 Maple St, Por...|               1|     14.95|     7.475|   14.95|  7.475|  afternoon|\n",
      "|2023-01-17|  141236|    Wired Headphones| 2.11397339522E12|   Vêtements|538 Adams St, San...|               2|     11.99|     5.995|   23.98|  11.99|    morning|\n",
      "|2023-01-05|  141237|    27in FHD Monitor|3.069156759167E12|      Sports|738 10th St, Los ...|               1|    149.99|   97.4935|  149.99|52.4965|    evening|\n",
      "|2023-01-25|  141238|    Wired Headphones|9.692680938163E12|Électronique|387 10th St, Aust...|               1|     11.99|     5.995|   11.99|  5.995|    morning|\n",
      "+----------+--------+--------------------+-----------------+------------+--------------------+----------------+----------+----------+--------+-------+-----------+\n",
      "only showing top 5 rows\n",
      "\n"
     ]
    }
   ],
   "source": [
    "df_pyspark.show(5)"
   ]
  },
  {
   "cell_type": "code",
   "execution_count": 11,
   "metadata": {},
   "outputs": [],
   "source": [
    "df_pyspark=(\n",
    "    df_pyspark.withColumn('product', F.lower('product'))\n",
    "    .withColumn('category', F.lower('category'))\n",
    "    .filter(F.col('product').contains('tv'))\n",
    "\n",
    ")"
   ]
  },
  {
   "cell_type": "code",
   "execution_count": 12,
   "metadata": {},
   "outputs": [
    {
     "name": "stdout",
     "output_type": "stream",
     "text": [
      "+----------+--------+-------------+-----------------+------------+--------------------+----------------+----------+----------+--------+------+-----------+\n",
      "|order_date|order_id|      product|       product_id|    category|    purchase_address|quantity_ordered|price_each|cost_price|turnover|margin|time_of_day|\n",
      "+----------+--------+-------------+-----------------+------------+--------------------+----------------+----------+----------+--------+------+-----------+\n",
      "|2023-01-03|  141248|flatscreen tv| 4.06275646306E12|électronique|363 Spruce St, Au...|               1|     300.0|      99.0|   300.0| 201.0|    evening|\n",
      "|2023-01-02|  141283|flatscreen tv|8.633300480139E12|électronique|68 Hickory St, Se...|               1|     300.0|      99.0|   300.0| 201.0|  afternoon|\n",
      "|2023-01-09|  141331|flatscreen tv|7.572900898157E12|électronique|299 Park St, San ...|               1|     300.0|      99.0|   300.0| 201.0|  afternoon|\n",
      "|2023-01-17|  141366|flatscreen tv|9.422250408078E12|      sports|803 Church St, Se...|               1|     300.0|      99.0|   300.0| 201.0|    evening|\n",
      "|2023-01-24|  141421|flatscreen tv|1.216526441418E12|   vêtements|154 7th St, Dalla...|               1|     300.0|      99.0|   300.0| 201.0|    morning|\n",
      "+----------+--------+-------------+-----------------+------------+--------------------+----------------+----------+----------+--------+------+-----------+\n",
      "only showing top 5 rows\n",
      "\n"
     ]
    }
   ],
   "source": [
    "df_pyspark.show(5)"
   ]
  },
  {
   "cell_type": "code",
   "execution_count": 24,
   "metadata": {},
   "outputs": [],
   "source": [
    "df_pyspark=(\n",
    "    df_pyspark.withColumn('adress_purchase',F.split(F.col('purchase_address'),' '))\n",
    "    .withColumn('purchase_state',F.col(\"adress_purchase\").getItem(F.size('adress_purchase')-2))\n",
    "    .drop('address_purchase')\n",
    ")"
   ]
  },
  {
   "cell_type": "code",
   "execution_count": 19,
   "metadata": {},
   "outputs": [
    {
     "name": "stdout",
     "output_type": "stream",
     "text": [
      "+----------+--------+-------------+-----------------+------------+--------------------+----------------+----------+----------+--------+------+-----------+--------------+\n",
      "|order_date|order_id|      product|       product_id|    category|    purchase_address|quantity_ordered|price_each|cost_price|turnover|margin|time_of_day|purchase_state|\n",
      "+----------+--------+-------------+-----------------+------------+--------------------+----------------+----------+----------+--------+------+-----------+--------------+\n",
      "|2023-01-03|  141248|flatscreen tv| 4.06275646306E12|électronique|363 Spruce St, Au...|               1|     300.0|      99.0|   300.0| 201.0|    evening|          NULL|\n",
      "|2023-01-02|  141283|flatscreen tv|8.633300480139E12|électronique|68 Hickory St, Se...|               1|     300.0|      99.0|   300.0| 201.0|  afternoon|          NULL|\n",
      "|2023-01-09|  141331|flatscreen tv|7.572900898157E12|électronique|299 Park St, San ...|               1|     300.0|      99.0|   300.0| 201.0|  afternoon|          NULL|\n",
      "|2023-01-17|  141366|flatscreen tv|9.422250408078E12|      sports|803 Church St, Se...|               1|     300.0|      99.0|   300.0| 201.0|    evening|          NULL|\n",
      "|2023-01-24|  141421|flatscreen tv|1.216526441418E12|   vêtements|154 7th St, Dalla...|               1|     300.0|      99.0|   300.0| 201.0|    morning|          NULL|\n",
      "+----------+--------+-------------+-----------------+------------+--------------------+----------------+----------+----------+--------+------+-----------+--------------+\n",
      "only showing top 5 rows\n",
      "\n"
     ]
    }
   ],
   "source": [
    "df_pyspark.show(5)"
   ]
  },
  {
   "cell_type": "code",
   "execution_count": 26,
   "metadata": {},
   "outputs": [
    {
     "name": "stdout",
     "output_type": "stream",
     "text": [
      "Number of states: 8\n"
     ]
    }
   ],
   "source": [
    "n_states=df_pyspark.select('purchase_state').distinct().count()\n",
    "print(f\"Number of states: {n_states}\")"
   ]
  },
  {
   "cell_type": "code",
   "execution_count": 31,
   "metadata": {},
   "outputs": [
    {
     "name": "stdout",
     "output_type": "stream",
     "text": [
      "+------------+-----------------+\n",
      "|    category|  avg(cost_price)|\n",
      "+------------+-----------------+\n",
      "|Électronique|69.73946748133805|\n",
      "|      Sports| 69.5346502205941|\n",
      "|   Vêtements|69.47677533673904|\n",
      "|Alimentation|69.92548114240572|\n",
      "+------------+-----------------+\n",
      "\n"
     ]
    }
   ],
   "source": [
    "avg = df_pyspark.groupby('category').agg(F.avg('cost_price')).alias('avg_cost_price')\n",
    "avg.show()"
   ]
  }
 ],
 "metadata": {
  "kernelspec": {
   "display_name": "venv",
   "language": "python",
   "name": "python3"
  },
  "language_info": {
   "codemirror_mode": {
    "name": "ipython",
    "version": 3
   },
   "file_extension": ".py",
   "mimetype": "text/x-python",
   "name": "python",
   "nbconvert_exporter": "python",
   "pygments_lexer": "ipython3",
   "version": "3.12.3"
  }
 },
 "nbformat": 4,
 "nbformat_minor": 2
}
